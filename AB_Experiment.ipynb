{
  "nbformat": 4,
  "nbformat_minor": 0,
  "metadata": {
    "colab": {
      "name": "AB_Experiment.ipynb",
      "provenance": [],
      "collapsed_sections": [],
      "authorship_tag": "ABX9TyOHL2PXRcrQw4DnGxGNFCkM",
      "include_colab_link": true
    },
    "kernelspec": {
      "name": "python3",
      "display_name": "Python 3"
    }
  },
  "cells": [
    {
      "cell_type": "markdown",
      "metadata": {
        "id": "view-in-github",
        "colab_type": "text"
      },
      "source": [
        "<a href=\"https://colab.research.google.com/github/mohiteprathamesh1996/Analyzing-Website-conversion-rate-using-AB-tests/blob/main/AB_Experiment.ipynb\" target=\"_parent\"><img src=\"https://colab.research.google.com/assets/colab-badge.svg\" alt=\"Open In Colab\"/></a>"
      ]
    },
    {
      "cell_type": "markdown",
      "metadata": {
        "id": "_gBthqTC8SVO"
      },
      "source": [
        "#### Loading packages"
      ]
    },
    {
      "cell_type": "code",
      "metadata": {
        "id": "e7cZgbJd8Rjv"
      },
      "source": [
        "import pandas as pd\n",
        "import numpy as np\n",
        "import pandas_datareader as pdr\n",
        "import datetime\n",
        "import matplotlib.pyplot as plt\n",
        "import seaborn as sns\n",
        "\n",
        "import math\n",
        "import statsmodels.stats.api as sms\n",
        "import scipy.stats as st\n",
        "\n",
        "import warnings\n",
        "warnings.filterwarnings(\"ignore\")"
      ],
      "execution_count": 35,
      "outputs": []
    },
    {
      "cell_type": "markdown",
      "metadata": {
        "id": "MKTbS7gL8bYj"
      },
      "source": [
        "#### Load data"
      ]
    },
    {
      "cell_type": "code",
      "metadata": {
        "id": "gs_4CDOr8azV"
      },
      "source": [
        "df_conversion = pd.read_csv(\"https://raw.githubusercontent.com/mohiteprathamesh1996/Analyzing-Website-conversion-rate-using-AB-tests/main/ab_data.csv\")"
      ],
      "execution_count": 21,
      "outputs": []
    },
    {
      "cell_type": "markdown",
      "metadata": {
        "id": "QIVNoNQN8skR"
      },
      "source": [
        "#### Data Cleaning\n",
        "To ensure that the data is as per the planned experiment, I have dropped rows where the control group was exposed to new landing page and vice versa the treatment group was exposed to the old landing page"
      ]
    },
    {
      "cell_type": "code",
      "metadata": {
        "id": "d38CXO1U8atn"
      },
      "source": [
        "df_conversion_cleaned = pd.concat([df_conversion[(df_conversion[\"group\"]==\"control\") & \n",
        "                                                 (df_conversion[\"landing_page\"]==\"old_page\")],\n",
        "                                   df_conversion[(df_conversion[\"group\"]==\"treatment\") & \n",
        "                                                 (df_conversion[\"landing_page\"]==\"new_page\")]]).reset_index(drop=True)"
      ],
      "execution_count": 22,
      "outputs": []
    },
    {
      "cell_type": "markdown",
      "metadata": {
        "id": "DXTyoWO6Ch1o"
      },
      "source": [
        "#### Drop duplicate rows"
      ]
    },
    {
      "cell_type": "code",
      "metadata": {
        "id": "iSmq0_3z8ao4"
      },
      "source": [
        "df_conversion_cleaned = df_conversion_cleaned.drop_duplicates(subset=[\"user_id\"], keep=\"first\").reset_index(drop=True)"
      ],
      "execution_count": 23,
      "outputs": []
    },
    {
      "cell_type": "markdown",
      "metadata": {
        "id": "_f5lWb5hPWjG"
      },
      "source": [
        "#### Determine sample size required"
      ]
    },
    {
      "cell_type": "code",
      "metadata": {
        "id": "AND_e3_h8aXZ"
      },
      "source": [
        "def sample_size(converted_control, total_control, practical_significance, confidence_level, sensitivity):\n",
        "  '''\n",
        "  Returns ideal sample size to run the AB experiment on.\n",
        "  \n",
        "  Parameters:\n",
        "  -----------  \n",
        "      converted_control: int\n",
        "          Number of converted data points in control group.    \n",
        "      \n",
        "      total_control: int \n",
        "          Total number of data points in control group.\n",
        "\n",
        "      practical_significance: float\n",
        "          Minimum change to the baseline rate that is beneficial to the business objective.\n",
        "\n",
        "      confidence_level: float\n",
        "          Probability of rejecting null hypothesis when it shouldn't be rejected.\n",
        "\n",
        "      sensitivity: float\n",
        "          Probability of failing to reject null hypothesis when it should be rejected.\n",
        "  '''\n",
        "  baseline_rate = converted_control / total_control\n",
        "  \n",
        "  effect_size = sms.proportion_effectsize(baseline_rate, baseline_rate + practical_significance)\n",
        "\n",
        "  sample_size = sms.NormalIndPower().solve_power(effect_size = effect_size,\n",
        "                                                 power = sensitivity,\n",
        "                                                 alpha = confidence_level,\n",
        "                                                 ratio = 1)\n",
        "  \n",
        "  return round(sample_size)"
      ],
      "execution_count": 41,
      "outputs": []
    },
    {
      "cell_type": "code",
      "metadata": {
        "colab": {
          "base_uri": "https://localhost:8080/"
        },
        "id": "1burFaBR8aU6",
        "outputId": "baf08666-f7e8-40ea-9bbb-093da83c4a9d"
      },
      "source": [
        "sample_size(converted_control = df_conversion_cleaned[(df_conversion_cleaned[\"group\"]==\"control\") &\n",
        "                                                      (df_conversion_cleaned[\"converted\"]==1)].shape[0], \n",
        "            total_control=df_conversion_cleaned[df_conversion_cleaned[\"group\"]==\"control\"].shape[0],\n",
        "            practical_significance=0.02,\n",
        "            confidence_level=0.05,\n",
        "            sensitivity=0.8)"
      ],
      "execution_count": 65,
      "outputs": [
        {
          "output_type": "execute_result",
          "data": {
            "text/plain": [
              "4444"
            ]
          },
          "metadata": {
            "tags": []
          },
          "execution_count": 65
        }
      ]
    },
    {
      "cell_type": "code",
      "metadata": {
        "colab": {
          "base_uri": "https://localhost:8080/"
        },
        "id": "5W-dg6uv8aS3",
        "outputId": "a1c670a6-a66b-413a-b001-c94476bd56bf"
      },
      "source": [
        "df_conversion_cleaned[\"group\"].value_counts()"
      ],
      "execution_count": 66,
      "outputs": [
        {
          "output_type": "execute_result",
          "data": {
            "text/plain": [
              "treatment    145310\n",
              "control      145274\n",
              "Name: group, dtype: int64"
            ]
          },
          "metadata": {
            "tags": []
          },
          "execution_count": 66
        }
      ]
    },
    {
      "cell_type": "markdown",
      "metadata": {
        "id": "nGx2rox_SwvM"
      },
      "source": [
        "#### Running AB experiment"
      ]
    },
    {
      "cell_type": "code",
      "metadata": {
        "id": "sFkQNjunStNr"
      },
      "source": [
        "def AB_significance_test(converted_control, converted_treatment, total_control, \n",
        "                         total_treatment, practical_significance, confidence_level):\n",
        "  '''\n",
        "  Returns results of AB test.\n",
        "  \n",
        "  Parameters:\n",
        "  -----------  \n",
        "      converted_control: int\n",
        "          Number of converted data points in control group.\n",
        "\n",
        "      converted_treatment: int\n",
        "          Number of converted data points in treatment group.    \n",
        "      \n",
        "      total_control: int \n",
        "          Total number of data points in control group.\n",
        "\n",
        "      total_treatment: int \n",
        "          Total number of data points in treatment group.\n",
        "\n",
        "      practical_significance: float\n",
        "          Minimum change to the baseline rate that is beneficial to the business objective.\n",
        "\n",
        "      confidence_level: float\n",
        "          Probability of rejecting null hypothesis when it shouldn't be rejected.\n",
        "  '''\n",
        "  # Calculate pooled probability\n",
        "  pooled_probability = (converted_control + converted_treatment) / (total_control + total_treatment)\n",
        "  \n",
        "  # Calculate pooled standard error\n",
        "  std_error_pooled = math.sqrt(pooled_probability * (1 - pooled_probability) * (1 / total_control + 1 / total_treatment))\n",
        "\n",
        "  # Calculate Z-score and margin of error\n",
        "  z_score = st.norm.ppf(1 - confidence_level / 2)\n",
        "  margin_of_error = std_error_pooled * z_score\n",
        "\n",
        "  # Difference in probability of conversions between the control and treatment groups\n",
        "  delta_prob = (converted_treatment/total_treatment) - (converted_control/total_control)\n",
        "\n",
        "  # Lower and Upper bounds\n",
        "  UL = delta_prob + margin_of_error\n",
        "  LL = delta_prob - margin_of_error\n",
        "\n",
        "  print(\"Practical significance = \", round(practical_significance*100, 2), \"%\")\n",
        "  print(\"Lower Bound = \", round(LL*100, 2),\"%\")\n",
        "  print(\"Upper Bound = \", round(UL*100, 2),\"%\")\n",
        "\n",
        "  if practical_significance < LL:\n",
        "    print(\"Reject Null Hypothesis!\")\n",
        "\n",
        "  else:\n",
        "    print(\"Do not reject Null Hypothesis!\")"
      ],
      "execution_count": 67,
      "outputs": []
    },
    {
      "cell_type": "code",
      "metadata": {
        "colab": {
          "base_uri": "https://localhost:8080/"
        },
        "id": "NMoaNczVStLp",
        "outputId": "20143f96-be3c-4ff4-cded-2730e322e030"
      },
      "source": [
        "AB_significance_test(converted_control = df_conversion_cleaned[(df_conversion_cleaned[\"group\"]==\"control\") &\n",
        "                                                               (df_conversion_cleaned[\"converted\"]==1)].shape[0], \n",
        "                     converted_treatment = df_conversion_cleaned[(df_conversion_cleaned[\"group\"]==\"treatment\") &\n",
        "                                                              (df_conversion_cleaned[\"converted\"]==1)].shape[0], \n",
        "                     total_control = df_conversion_cleaned[(df_conversion_cleaned[\"group\"]==\"control\")].shape[0], \n",
        "                     total_treatment = df_conversion_cleaned[(df_conversion_cleaned[\"group\"]==\"treatment\")].shape[0], \n",
        "                     practical_significance = 0.02, \n",
        "                     confidence_level = 0.05)"
      ],
      "execution_count": 74,
      "outputs": [
        {
          "output_type": "stream",
          "text": [
            "Practical significance =  2.0 %\n",
            "Lower Bound =  -0.39 %\n",
            "Upper Bound =  0.08 %\n",
            "Do not reject Null Hypothesis!\n"
          ],
          "name": "stdout"
        }
      ]
    },
    {
      "cell_type": "code",
      "metadata": {
        "id": "uqlMiZVa8aQa"
      },
      "source": [
        ""
      ],
      "execution_count": 64,
      "outputs": []
    },
    {
      "cell_type": "code",
      "metadata": {
        "id": "yvKFOqwP8aOW"
      },
      "source": [
        ""
      ],
      "execution_count": null,
      "outputs": []
    },
    {
      "cell_type": "code",
      "metadata": {
        "id": "a2cJk04D8ZRT"
      },
      "source": [
        ""
      ],
      "execution_count": 1,
      "outputs": []
    }
  ]
}